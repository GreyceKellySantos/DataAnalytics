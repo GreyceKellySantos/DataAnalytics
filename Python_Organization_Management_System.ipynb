{
 "cells": [
  {
   "cell_type": "markdown",
   "id": "d3cbd5df-124e-44db-84b0-913aba1f54df",
   "metadata": {},
   "source": [
    "# Diploma in Data Analytics 2024\n",
    "- Module: Programming in Python | Kayoum Khbuli\n",
    "- Due by: 18th Dec 2024\n",
    "- Delivery: Upload to Moodle\n",
    "- Format: Jupyter Notebook .ipynb\n",
    "- Overall Course Weighting: 60%"
   ]
  },
  {
   "cell_type": "markdown",
   "id": "9c1bcf00-e88e-4880-b915-196ae98366c9",
   "metadata": {},
   "source": [
    "## Assessment Task  \n",
    "In many organizations, effective staff management is essential to ensure smooth operations.  \n",
    "You are tasked with developing a Python-based Organization Management System that allows users to manage staff records in different scenarios using one of the following:  \n",
    "- Hospital  \n",
    "- School  \n",
    "- Company"
   ]
  },
  {
   "cell_type": "markdown",
   "id": "99a42916-392a-4c6a-ae11-84c85046dbd3",
   "metadata": {},
   "source": [
    "Tasks\n",
    "\n",
    "1. Display Available Information\n",
    "- Upon selecting a scenario, the system should display all the current staff members\n",
    "and their departments.\n",
    "\n",
    "2. Modify Staff Department\n",
    "- Allow the user to update the department of a specific staff member.\n",
    "- The program should prompt the user to enter the staff member's name and the new\n",
    "department.\n",
    "- If the staff member's name is not found, display an appropriate error message.\n",
    "\n",
    "3. Search Staff by Name\n",
    "- Provide a search function where the user can enter a name to find a staff member's\n",
    "details.\n",
    "- If the staff member is found, display their details, otherwise, display an error\n",
    "message.\n",
    "\n",
    "4. Main Menu Navigation\n",
    "- The program should return to the main menu after completing a task, allowing the\n",
    "user to select another operation or exit the program.\n",
    "\n",
    "______________________________________________________________________________________________"
   ]
  },
  {
   "cell_type": "markdown",
   "id": "8b1beb35-0760-4ff5-b46e-4e3978673871",
   "metadata": {},
   "source": [
    "### 1. Display Available Information\n",
    "\n",
    "This section contains the following method:\n",
    "\n",
    "- Method: This method displays all the staff members along with their respective departments.\n",
    "- Why: Allows the user to view all the staff members and their departments in a clear format.\n",
    "- How: It loops through the `staff_list`, which contains staff names and departments, and prints them out in a formatted way.\n",
    "- Who: Designed for the system's users who need to see the list of staff and their departments."
   ]
  },
  {
   "cell_type": "code",
   "execution_count": 5,
   "id": "e8e400a7-19bb-4ce1-bcaf-f22a2c660132",
   "metadata": {},
   "outputs": [],
   "source": [
    "### 1.Display Available Information\n",
    "\n",
    "# Initialize the staff list\n",
    "staff_list = {\"Name\": [\"Greyce Kelly\"],\n",
    "              \"Department\": [\"Sales & Customer Service\"]}\n",
    "\n",
    "staff_list[\"Name\"].extend([\"Rebecca Mel\", \"Augusto Konig\", \"Bruno Santos\", \"Felipe Diniz\", \"Maria Silva\", \"João Victor\", \"Gabriela Smith\"])\n",
    "staff_list[\"Department\"].extend([\"CEO\", \"Supply Chain\",\"HR\",\"Manufacturing\",\"Marketing & Customer Experience\",\"Legal\",\"Finance\"])\n",
    "\n",
    "def staff_menu():\n",
    "    \"\"\"\n",
    "    Display all staff members and their respective departments\n",
    "    \"\"\"\n",
    "    \n",
    "    # The header for the staff list\n",
    "    print(\"--- Staff List ---\\n\") \n",
    "    \n",
    "    # Loop through all staff members\n",
    "    for i in range(len(staff_list[\"Name\"])): \n",
    "        # Print each staff name and department\n",
    "        print(f\"{staff_list['Name'][i]:<15} - {staff_list['Department'][i]}\") "
   ]
  },
  {
   "cell_type": "markdown",
   "id": "67261e32-562f-4387-908a-a25685ef4c12",
   "metadata": {},
   "source": [
    "### 2. Modify Staff Department\n",
    "\n",
    "This section contains the following method:\n",
    "\n",
    "- Method: This method modifies the department of a specific staff member.\n",
    "- Why: Used when a user wants to update the department of an existing staff member.\n",
    "- How: First calls `find_staff()` to search for a staff member by name.\n",
    "  Once found, it prompts the user to enter the new department name, and if it's valid, updates the department for that staff member.\n",
    "- Who: Is for administrators or system users who need to update staff department information."
   ]
  },
  {
   "cell_type": "code",
   "execution_count": 7,
   "id": "a7fad369-083b-4d0f-94ea-40c8f8dfc3d6",
   "metadata": {},
   "outputs": [],
   "source": [
    "###2.Modify Staff Department\n",
    "\n",
    "def modify_depart():\n",
    "    \"\"\"\n",
    "    Modify the department of a specific staff member.\n",
    "    Prompts the user to enter the staff member's name and new department.\n",
    "    \"\"\"\n",
    "\n",
    "    # Call find_staff() to get the staff member's index\n",
    "    staff_index = find_staff() \n",
    "\n",
    "    # If a valid staff member is found\n",
    "    if staff_index is not None: \n",
    "        # Get the current name and department\n",
    "        current_name = staff_list[\"Name\"][staff_index] \n",
    "        current_department = staff_list[\"Department\"][staff_index]\n",
    "\n",
    "        while True:\n",
    "            # Ask the user for the new department\n",
    "            new_depart = input(\"Please, inform the new department for this staff member: \").strip()\n",
    "            # If the user provides a valid new department\n",
    "            if new_depart: \n",
    "                #Confirmation before updating\n",
    "                confirmation = input(f\"Are you sure you want to change {current_name}'s department to '{new_depart}'? (yes/no): \").strip().lower()\n",
    "                if confirmation == \"yes\":\n",
    "                    # Update the department\n",
    "                    staff_list[\"Department\"][staff_index] = new_depart\n",
    "                    print(f\"\\nDepartment updated successfully! \\nName: {current_name}\\nNew Department: {new_depart}\")\n",
    "                    break\n",
    "                else:\n",
    "                    print(\"\\n--- Action canceled. ---\")\n",
    "                    break        \n",
    "            else:\n",
    "                # Error message if the department name is empty\n",
    "                print(\"\\n--- Error: The department name cannot be empty! ---\")\n",
    "\n",
    "    else:\n",
    "        # Error message if no valid staff member is found\n",
    "        print(\"\\nNo valid staff member selected. Returning to main menu.\")"
   ]
  },
  {
   "cell_type": "markdown",
   "id": "ab3983a0-3f7d-424a-abdb-3f8e6fd48358",
   "metadata": {},
   "source": [
    "### 3. Search Staff by Name\n",
    "\n",
    "This section contains the following method:\n",
    "\n",
    "- Method: Searches for a staff member by their full name.\n",
    "- Why: Used to search for a staff member in the list by entering their full name, and displays the staff member's details if found.\n",
    "- How: It prompts the user to enter the full name of the staff member. If the name exists in the `staff_list`, it returns the index of the staff member and prints their details. If the name is not found, it displays an error message and lists all available staff members.\n",
    "- Who: This method is for users who need to search for a specific staff member by name in the system."
   ]
  },
  {
   "cell_type": "code",
   "execution_count": 9,
   "id": "4a20fed1-87ee-4910-9aa5-2fa8bf458bef",
   "metadata": {},
   "outputs": [],
   "source": [
    "#3.Search Staff by Name\n",
    "\n",
    "def find_staff():\n",
    "    \"\"\"\n",
    "    Search for a staff member by their full name.\n",
    "    Prompts the user to input a name and displays the matching staff member's details.\n",
    "    \"\"\"\n",
    "\n",
    "    # Infinite loop to keep asking the user for a staff name until they type 'exit'\n",
    "    while True:\n",
    "        # Prompt user to input a name or type 'exit' to quit\n",
    "        staff_name = input(\"Please, informe the staff full name: (or type 'exit' to quit)\") \n",
    "\n",
    "        # Exit condition if the user types 'exit'\n",
    "        if staff_name.lower() == \"exit\":\n",
    "            print(\"\\n--- Action canceled. Returning to the main menu. ---\")\n",
    "            return None\n",
    "\n",
    "        # If the staff member is found in the list\n",
    "        if staff_name in staff_list [\"Name\"]:\n",
    "            staff_index = staff_list [\"Name\"].index(staff_name)\n",
    "            print(f\"\\nStaff member found: \\n{staff_list['Name'][staff_index]:<15} - {staff_list['Department'][staff_index]}\")\n",
    "            return staff_index\n",
    "                \n",
    "        else:\n",
    "            # If the name is not found, show an error message and the available staff members\n",
    "            print(\"\\n--- Error: The name informed was not found in the list. ---\")\n",
    "            print(\"\\nBelow, your list of staffs avaiable:\")\n",
    "                \n",
    "            for name in staff_list[\"Name\"]:\n",
    "                print(f\"-- {name}\")\n",
    "            print (\"\\nPlease, try again:\\n\")"
   ]
  },
  {
   "cell_type": "markdown",
   "id": "2514e422-fb0d-45a6-8533-91000fc4c40e",
   "metadata": {},
   "source": [
    "### 4.Main Menu Navigation\n",
    "This section contains the following methods:\n",
    "\n",
    "1. `displayMenu` :\n",
    "\n",
    "- Methods: Displays the main menu with the available options for the user.\n",
    "- Why: To guide the user in selecting the desired action.\n",
    "- How: Prints a formatted menu with options numbered from 1 to 4.\n",
    "- Who: Users of the system who need to interact with staff management functions.\n",
    "\n",
    "2. `staff_system` :\n",
    "\n",
    "- Methods: Handles the interaction logic for the menu, guiding the user through various staff management options.\n",
    "- Why: To provide a central point for user input and execute the corresponding function based on the selected option.\n",
    "- How: Uses a while loop to repeatedly display the menu, takes user input, and calls the appropriate function or handles errors.\n",
    "- Who: End users interacting with the Staff Management System.\n"
   ]
  },
  {
   "cell_type": "code",
   "execution_count": null,
   "id": "0da26027-0806-4a62-92ed-dd0e7795a7f9",
   "metadata": {},
   "outputs": [
    {
     "name": "stdout",
     "output_type": "stream",
     "text": [
      "\n",
      "----------------- Staff Management System -----------------\n",
      "    Select an option:\n",
      "\n",
      "    1. Listing all Staff Members\n",
      "    2. Modify Staff Department\n",
      "    3. Search Staff by Name\n",
      "    4. Exit\n",
      "    \n"
     ]
    },
    {
     "name": "stdin",
     "output_type": "stream",
     "text": [
      "Please, choose an option:  1\n"
     ]
    },
    {
     "name": "stdout",
     "output_type": "stream",
     "text": [
      "\n",
      "📋 Listing all Staff Members\n",
      "\n",
      "--- Staff List ---\n",
      "\n",
      "Greyce Kelly    - Sales & Customer Service\n",
      "Rebecca Mel     - CEO\n",
      "Augusto Konig   - Supply Chain\n",
      "Bruno Santos    - HR\n",
      "Felipe Diniz    - Manufacturing\n",
      "Maria Silva     - Marketing & Customer Experience\n",
      "João Victor     - Legal\n",
      "Gabriela Smith  - Finance\n",
      "\n",
      "----------------- Staff Management System -----------------\n",
      "    Select an option:\n",
      "\n",
      "    1. Listing all Staff Members\n",
      "    2. Modify Staff Department\n",
      "    3. Search Staff by Name\n",
      "    4. Exit\n",
      "    \n"
     ]
    },
    {
     "name": "stdin",
     "output_type": "stream",
     "text": [
      "Please, choose an option:  2\n"
     ]
    },
    {
     "name": "stdout",
     "output_type": "stream",
     "text": [
      "\n",
      "✏️ Modify Staff Department\n",
      "\n"
     ]
    },
    {
     "name": "stdin",
     "output_type": "stream",
     "text": [
      "Please, informe the staff full name: (or type 'exit' to quit) augusto\n"
     ]
    },
    {
     "name": "stdout",
     "output_type": "stream",
     "text": [
      "\n",
      "--- Error: The name informed was not found in the list. ---\n",
      "\n",
      "Below, your list of staffs avaiable:\n",
      "-- Greyce Kelly\n",
      "-- Rebecca Mel\n",
      "-- Augusto Konig\n",
      "-- Bruno Santos\n",
      "-- Felipe Diniz\n",
      "-- Maria Silva\n",
      "-- João Victor\n",
      "-- Gabriela Smith\n",
      "\n",
      "Please, try again:\n",
      "\n"
     ]
    },
    {
     "name": "stdin",
     "output_type": "stream",
     "text": [
      "Please, informe the staff full name: (or type 'exit' to quit) AUGUSTO\n"
     ]
    },
    {
     "name": "stdout",
     "output_type": "stream",
     "text": [
      "\n",
      "--- Error: The name informed was not found in the list. ---\n",
      "\n",
      "Below, your list of staffs avaiable:\n",
      "-- Greyce Kelly\n",
      "-- Rebecca Mel\n",
      "-- Augusto Konig\n",
      "-- Bruno Santos\n",
      "-- Felipe Diniz\n",
      "-- Maria Silva\n",
      "-- João Victor\n",
      "-- Gabriela Smith\n",
      "\n",
      "Please, try again:\n",
      "\n"
     ]
    },
    {
     "name": "stdin",
     "output_type": "stream",
     "text": [
      "Please, informe the staff full name: (or type 'exit' to quit) Augusto\n"
     ]
    },
    {
     "name": "stdout",
     "output_type": "stream",
     "text": [
      "\n",
      "--- Error: The name informed was not found in the list. ---\n",
      "\n",
      "Below, your list of staffs avaiable:\n",
      "-- Greyce Kelly\n",
      "-- Rebecca Mel\n",
      "-- Augusto Konig\n",
      "-- Bruno Santos\n",
      "-- Felipe Diniz\n",
      "-- Maria Silva\n",
      "-- João Victor\n",
      "-- Gabriela Smith\n",
      "\n",
      "Please, try again:\n",
      "\n"
     ]
    },
    {
     "name": "stdin",
     "output_type": "stream",
     "text": [
      "Please, informe the staff full name: (or type 'exit' to quit) Aug\n"
     ]
    },
    {
     "name": "stdout",
     "output_type": "stream",
     "text": [
      "\n",
      "--- Error: The name informed was not found in the list. ---\n",
      "\n",
      "Below, your list of staffs avaiable:\n",
      "-- Greyce Kelly\n",
      "-- Rebecca Mel\n",
      "-- Augusto Konig\n",
      "-- Bruno Santos\n",
      "-- Felipe Diniz\n",
      "-- Maria Silva\n",
      "-- João Victor\n",
      "-- Gabriela Smith\n",
      "\n",
      "Please, try again:\n",
      "\n"
     ]
    }
   ],
   "source": [
    "## 4.Main Menu Navigation\n",
    "\n",
    "def displayMenu():\n",
    "    \"\"\" \n",
    "    This funcionon will display a couple of options\n",
    "    to the user to choose from. \n",
    "    \"\"\"\n",
    "\n",
    "    print (\"\"\"\n",
    "----------------- Staff Management System -----------------\n",
    "    Select an option:\n",
    "\n",
    "    1. Listing all Staff Members\n",
    "    2. Modify Staff Department\n",
    "    3. Search Staff by Name\n",
    "    4. Exit\n",
    "    \"\"\")\n",
    "\n",
    "def staff_system():    \n",
    "    \"\"\" \n",
    "    Manage the main interaction logic for the Staff Management System.\n",
    "    Repeatedly display the menu and execute the selected option.\n",
    "    \"\"\"\n",
    "    \n",
    "    while True:\n",
    "        # Display the main menu for user interaction\n",
    "        displayMenu()\n",
    "        try:\n",
    "            # Prompt user for a menu option\n",
    "            choice = int(input(\"Please, choose an option: \"))\n",
    "            if choice == 1:\n",
    "                print(\"\\n📋 Listing all Staff Members\\n\")\n",
    "                # Call the function to display all staff members\n",
    "                staff_menu() \n",
    "            elif choice == 2:\n",
    "                print(\"\\n✏️ Modify Staff Department\\n\")\n",
    "                # Call the function to update a staff member's department\n",
    "                modify_depart() \n",
    "            elif choice == 3:\n",
    "                print(\"\\n🔍 Search Staff by Name\\n\")\n",
    "                # Call the function to search for a staff member\n",
    "                find_staff() \n",
    "            elif choice == 4:\n",
    "                print(\"\\n👋 Thank you for using the Staff Management System. See you soon!\\n\") \n",
    "                # Exit the loop and terminate the program\n",
    "                return\n",
    "            else:\n",
    "                 # Handle invalid numeric inputs\n",
    "                print(\"--- Error: Invalid option! Please input valid number between 1-4 ---\")\n",
    "            \n",
    "        except ValueError:\n",
    "            # Handle non-numeric input errors\n",
    "            print (\"--- Error: Please use only numbers! ---\")\n",
    "\n",
    "# Activate the main system logic\n",
    "staff_system()"
   ]
  },
  {
   "cell_type": "code",
   "execution_count": null,
   "id": "294fdb56-94aa-42e3-9808-8d103c7b2205",
   "metadata": {},
   "outputs": [],
   "source": []
  }
 ],
 "metadata": {
  "kernelspec": {
   "display_name": "Python 3 (ipykernel)",
   "language": "python",
   "name": "python3"
  },
  "language_info": {
   "codemirror_mode": {
    "name": "ipython",
    "version": 3
   },
   "file_extension": ".py",
   "mimetype": "text/x-python",
   "name": "python",
   "nbconvert_exporter": "python",
   "pygments_lexer": "ipython3",
   "version": "3.11.7"
  }
 },
 "nbformat": 4,
 "nbformat_minor": 5
}
