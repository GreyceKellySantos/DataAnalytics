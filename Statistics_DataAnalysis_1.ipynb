{
 "cells": [
  {
   "cell_type": "markdown",
   "id": "31f1dbf0-02df-43de-8b71-c7569008e38f",
   "metadata": {},
   "source": [
    "## Statistics for Data Analysis\n",
    "\n",
    "Assignment one (20%)\n",
    "\n",
    "City Colleges\n",
    "\n",
    "Due Date: 8th November 2024"
   ]
  },
  {
   "cell_type": "markdown",
   "id": "6a5a1d74-c04f-4c76-b80b-838bbc8835ad",
   "metadata": {},
   "source": [
    "### 1. Measures of Spread\n",
    "\n",
    "A teacher wants to assess the performance of a class in a mathematics quiz. The class consists of 10 students, and\n",
    "their quiz scores are as follows:\n",
    "Class: [40,30, 20, 60, 70, 60, 80, 50, 60, 60 ]"
   ]
  },
  {
   "cell_type": "markdown",
   "id": "7e859c72-b67c-4964-a324-7bac87242850",
   "metadata": {},
   "source": [
    "a. Calculate the variance of the quiz scores for the class. Show your calculations step by step."
   ]
  },
  {
   "cell_type": "code",
   "execution_count": 175,
   "id": "719779a6-b6d5-45a7-b205-89b09311e691",
   "metadata": {
    "scrolled": true
   },
   "outputs": [
    {
     "name": "stdout",
     "output_type": "stream",
     "text": [
      "The mean is 53.0\n"
     ]
    }
   ],
   "source": [
    "import numpy as np\n",
    "\n",
    "data = [40, 30, 20, 60, 70, 60, 80, 50, 60, 60]\n",
    "\n",
    "mean = np.mean(data)\n",
    "print(f\"The mean is {mean}\")"
   ]
  },
  {
   "cell_type": "code",
   "execution_count": 178,
   "id": "8eca0b66-320f-4fd9-82f6-a050c15c5d29",
   "metadata": {
    "scrolled": true
   },
   "outputs": [
    {
     "name": "stdout",
     "output_type": "stream",
     "text": [
      "The variance is 301.0\n"
     ]
    }
   ],
   "source": [
    "variance = np.var(data, ddof=0)\n",
    "print(f\"The variance is {variance}\")"
   ]
  },
  {
   "cell_type": "markdown",
   "id": "9faf1e52-bf03-4cd8-81b7-5444b24690a8",
   "metadata": {},
   "source": [
    "b. Calculate the standard deviation of the quiz scores."
   ]
  },
  {
   "cell_type": "code",
   "execution_count": 181,
   "id": "11db2a20-2b2e-457b-a3f1-98758362302c",
   "metadata": {
    "scrolled": true
   },
   "outputs": [
    {
     "name": "stdout",
     "output_type": "stream",
     "text": [
      "The standard deviation is 301.0\n"
     ]
    }
   ],
   "source": [
    "std_dev = np.std(data)\n",
    "print(f\"The standard deviation is {variance}\")"
   ]
  },
  {
   "cell_type": "markdown",
   "id": "da601a9c-0e44-4183-acd1-1d75d1d74f69",
   "metadata": {},
   "source": [
    "### 2. Normal distribution\n",
    "Consider a continuous random variable X that follows a normal distribution with a mean (µ) of 4 and a standard deviation (σ) of 2.\n",
    "\n",
    "a. calculate the Probability Density Function (PDF) of X at x = 3. Your program should use the provided mean\n",
    "and standard deviation values\n"
   ]
  },
  {
   "cell_type": "code",
   "execution_count": 203,
   "id": "78bb350b-ec1f-4ece-8a4a-b3c06b7512e0",
   "metadata": {
    "scrolled": true
   },
   "outputs": [
    {
     "name": "stdout",
     "output_type": "stream",
     "text": [
      "The pdf of 3 is 0.1760\n"
     ]
    }
   ],
   "source": [
    "import scipy.stats as stats\n",
    "\n",
    "x = 3\n",
    "pdf = stats.norm.pdf(4,x,2)\n",
    "print(f\"The pdf of {3} is {pdf:.4f}\")"
   ]
  },
  {
   "cell_type": "markdown",
   "id": "34ad983e-b300-4342-809c-e359dff5e15f",
   "metadata": {},
   "source": [
    "### 3. Binomial Distribution\n",
    "1. Sixty-five percent of people pass the state driver’s exam on the first try. A group of 50 individuals who have\n",
    "taken the driver’s exam is randomly selected.\n",
    "\n",
    "Give two reasons why this is a binomial problem.\n"
   ]
  },
  {
   "cell_type": "code",
   "execution_count": 95,
   "id": "aa14f68f-2afd-49aa-85cf-c94f7462e3f8",
   "metadata": {},
   "outputs": [],
   "source": [
    "# 1. Existence of Two Possible Outcomes, pass or fail.\n",
    "# 2. Independent Outcomes, the results are independent of each other"
   ]
  },
  {
   "cell_type": "markdown",
   "id": "0b217623-eb90-4af4-ab26-4adc67c4a987",
   "metadata": {},
   "source": [
    "2. Suppose you play a game that you can only either win or lose. The probability that you win any game is\n",
    "55%, and the probability that you lose is 45%. Each game you play is independent.\n",
    "\n",
    "• If you play the game 20 times, write the function that describes the probability that you win 15 of the\n",
    "20 times.\n"
   ]
  },
  {
   "cell_type": "code",
   "execution_count": 213,
   "id": "f10065be-943b-49db-ab68-f4dfde5cfb4c",
   "metadata": {
    "scrolled": true
   },
   "outputs": [
    {
     "name": "stdout",
     "output_type": "stream",
     "text": [
      "The probability of winning exactly 15 out of 20 games is: 0.0365\n"
     ]
    }
   ],
   "source": [
    "#Binominal %\n",
    "import scipy.stats as stats\n",
    "n = 20 # number of trials\n",
    "p = 0.55 #probability of sucess\n",
    "k = 15 # number of success\n",
    "\n",
    "binomProb = stats.binom.pmf(k,n,p)\n",
    "print(f\"The probability of winning exactly 15 out of 20 games is: {binomProb:.4f}\")"
   ]
  },
  {
   "cell_type": "markdown",
   "id": "18b38ba2-4c80-4a9e-9fa2-0cfcfe4504dc",
   "metadata": {},
   "source": [
    "• Find the mean number of wins.\n"
   ]
  },
  {
   "cell_type": "code",
   "execution_count": 218,
   "id": "d1336683-2127-4b13-a8f5-8e66a801b2b3",
   "metadata": {
    "scrolled": true
   },
   "outputs": [
    {
     "name": "stdout",
     "output_type": "stream",
     "text": [
      "The mean is: 11.0\n"
     ]
    }
   ],
   "source": [
    "mean_game = n * p\n",
    "print(f\"The mean is: {mean_game}\")"
   ]
  },
  {
   "cell_type": "markdown",
   "id": "856c8e8a-47af-4402-86bf-1a8e3921452a",
   "metadata": {},
   "source": [
    "• Find the standard deviation of wins."
   ]
  },
  {
   "cell_type": "code",
   "execution_count": 225,
   "id": "d3eb83e6-71c2-46dd-b730-a44b64cd38be",
   "metadata": {
    "scrolled": true
   },
   "outputs": [
    {
     "name": "stdout",
     "output_type": "stream",
     "text": [
      "The standard deviation is: 2.2249\n"
     ]
    }
   ],
   "source": [
    "import math\n",
    "\n",
    "std_dev_game = math.sqrt(n * p * (1 - p))\n",
    "print(f\"The standard deviation is: {std_dev_game:.4f}\")"
   ]
  },
  {
   "cell_type": "markdown",
   "id": "313619ba-67a0-476f-af2f-69a0dc3e4a86",
   "metadata": {},
   "source": [
    "### 4 Poisson distribution\n",
    "You notice that a news reporter says ”uh,” on average, two times per broadcast. What is the probability that the\n",
    "news reporter says ”uh” more than two times per broadcast? This is a Poisson problem because you are interested\n",
    "in knowing the number of times the news reporter says ”uh” during a broadcast.\n",
    "1. What is the interval of interest?\n",
    "\n"
   ]
  },
  {
   "cell_type": "code",
   "execution_count": 323,
   "id": "41220fbc-7229-4a91-9eaa-21c5aedca197",
   "metadata": {},
   "outputs": [],
   "source": [
    "# 2"
   ]
  },
  {
   "cell_type": "markdown",
   "id": "4282195e-6b07-4bc0-9158-b104fad9b7f0",
   "metadata": {},
   "source": [
    "2. What is the average number of times the news reporter says ”uh” during one broadcast?"
   ]
  },
  {
   "cell_type": "code",
   "execution_count": 245,
   "id": "286a327e-3408-4214-b823-6fbda5387829",
   "metadata": {},
   "outputs": [],
   "source": [
    "Average_times = 2"
   ]
  },
  {
   "cell_type": "markdown",
   "id": "3b54cce3-75c4-4db9-99ac-9ddb7a42b80a",
   "metadata": {},
   "source": [
    "3. What does X represent? Write the correct notation for Poisson distribution?"
   ]
  },
  {
   "cell_type": "code",
   "execution_count": 239,
   "id": "a4fa3c7b-72bf-4f76-b203-31a5c36899e4",
   "metadata": {},
   "outputs": [],
   "source": [
    "# X∼Poisson(2)"
   ]
  },
  {
   "cell_type": "markdown",
   "id": "1c631b02-6dc0-4942-86b3-3a1862c75f73",
   "metadata": {},
   "source": [
    "4. Write a mathematical statement for the probability question?\n"
   ]
  },
  {
   "cell_type": "code",
   "execution_count": 241,
   "id": "2e323a04-80fe-47d6-9484-593d169c1c2e",
   "metadata": {},
   "outputs": [],
   "source": [
    "# Poisson Distribution Formula | Attached doc.1"
   ]
  },
  {
   "cell_type": "markdown",
   "id": "adbbe9bf-4c04-4c51-acd0-5a722dcd499b",
   "metadata": {},
   "source": [
    "5. Find the probability that the news reporter says ”uh” more than two times per broadcast.\n"
   ]
  },
  {
   "cell_type": "code",
   "execution_count": 247,
   "id": "6abe35c8-2c71-4f5e-9f50-35373b337e85",
   "metadata": {
    "scrolled": true
   },
   "outputs": [
    {
     "name": "stdout",
     "output_type": "stream",
     "text": [
      "The probability that the news reporter says 'uh' more than two time is: 0.3233\n"
     ]
    }
   ],
   "source": [
    "poissonCDF = stats.poisson.cdf(2, Average_times) # P(X ≤ 2)\n",
    "poissonCDF = 1-poissonCDF # P(X > 2)\n",
    "print(f\"The probability that the news reporter says 'uh' more than two time is: {poissonCDF:.4f}\")"
   ]
  },
  {
   "cell_type": "markdown",
   "id": "1b52fc56-7584-4a8d-9d70-3ad4ddb74cda",
   "metadata": {},
   "source": [
    "### 5 Exponential Distribution\n",
    "Suppose that an average of 30 customers per hour arrive at a store, and the time between arrivals is exponentially\n",
    "distributed.\n",
    "1. On average, how many minutes elapse between two successive arrivals?"
   ]
  },
  {
   "cell_type": "code",
   "execution_count": 255,
   "id": "8324285d-8942-46ae-959f-dce308ffc138",
   "metadata": {
    "scrolled": true
   },
   "outputs": [
    {
     "name": "stdout",
     "output_type": "stream",
     "text": [
      "Average time between arrivals: 2.0 minutes\n"
     ]
    }
   ],
   "source": [
    "lambdavalue_ = 60/30 # rate of costumer\n",
    "\n",
    "print(f\"Average time between arrivals: {lambdavalue_} minutes\")"
   ]
  },
  {
   "cell_type": "markdown",
   "id": "845b7665-3fab-4e21-a33d-756ec1b28987",
   "metadata": {},
   "source": [
    "2. When the store first opens, how long on average does it take for three customers to arrive?\n"
   ]
  },
  {
   "cell_type": "code",
   "execution_count": 260,
   "id": "8c7ef1ae-bb24-4910-a5a3-299fe6868b55",
   "metadata": {
    "scrolled": true
   },
   "outputs": [
    {
     "name": "stdout",
     "output_type": "stream",
     "text": [
      "The average time for the 3 first customers arrive is: 6.0 minutes\n"
     ]
    }
   ],
   "source": [
    "lambdavalue_ = 30 / 60  # Convert from per hour to per minute customers\n",
    "\n",
    "c = 3  # Number of customers\n",
    "expected_time = c / lambdavalue_\n",
    "\n",
    "print(f\"The average time for the {c} first customers arrive is: {expected_time} minutes\")"
   ]
  },
  {
   "cell_type": "markdown",
   "id": "b36dc596-4147-4865-ac8a-48e593d4f818",
   "metadata": {},
   "source": [
    "3. After a customer arrives, find the probability that it takes less than one minute for the next customer to\n",
    "arrive"
   ]
  },
  {
   "cell_type": "code",
   "execution_count": 272,
   "id": "64896757-b630-4d33-85e7-e8b082aca50b",
   "metadata": {
    "scrolled": true
   },
   "outputs": [
    {
     "name": "stdout",
     "output_type": "stream",
     "text": [
      "The probability that is takes less than 1min: 0.3935\n"
     ]
    }
   ],
   "source": [
    "lambdavalue_ = 30 / 60 # Convert from per hour to per minute customers\n",
    "\n",
    "time_3 = 1\n",
    "prob_3 = stats.expon.cdf (time_3, scale = 1/lambdavalue_)\n",
    "\n",
    "print(f\"The probability that is takes less than 1min: {prob_3:.4f}\")"
   ]
  },
  {
   "cell_type": "markdown",
   "id": "8935522b-7188-44c3-a02d-d44d544cce4a",
   "metadata": {},
   "source": [
    "4. After a customer arrives, find the probability that it takes more than five minutes for the next customer to\n",
    "arrive.\n"
   ]
  },
  {
   "cell_type": "code",
   "execution_count": 302,
   "id": "a9a1352a-e7b7-4942-b15d-adceec51976f",
   "metadata": {
    "scrolled": true
   },
   "outputs": [
    {
     "name": "stdout",
     "output_type": "stream",
     "text": [
      "The probability that it takes more than 5min: 0.0821\n"
     ]
    }
   ],
   "source": [
    "lambdavalue_ = 30 / 60 # Convert from per hour to per minute customers\n",
    "\n",
    "time_4 = 5\n",
    "prob_4 = np.exp(-lambdavalue_ * time_4)\n",
    "prob_4\n",
    "\n",
    "print(f\"The probability that it takes more than 5min: {prob_4:.4f}\")"
   ]
  },
  {
   "cell_type": "markdown",
   "id": "2e01dd1b-5f75-4159-9332-6d735b92e08c",
   "metadata": {},
   "source": [
    "5. Seventy percent of the customers arrive within how many minutes of the previous customer?"
   ]
  },
  {
   "cell_type": "code",
   "execution_count": 82,
   "id": "2e141d33-5092-4d6e-beaa-7eb33b2e2c06",
   "metadata": {
    "scrolled": true
   },
   "outputs": [
    {
     "name": "stdout",
     "output_type": "stream",
     "text": [
      "Time in minutes for 70% of customers to arrive: 2.4079\n"
     ]
    }
   ],
   "source": [
    "lambdavalue_ = 30 / 60 # Convert from per hour to per minute customers\n",
    "# 100% - 70% = 30% = 0.30 # % to not happened\n",
    "\n",
    "time_70 = np.log(1 / 0.30) / lambdavalue_\n",
    "\n",
    "print(f\"Time in minutes for 70% of customers to arrive: {time_70:.4f}\")"
   ]
  },
  {
   "cell_type": "markdown",
   "id": "75df42ce-1a75-48a1-93db-89c21074b073",
   "metadata": {},
   "source": [
    "6. Is an exponential distribution reasonable for this situation?"
   ]
  },
  {
   "cell_type": "markdown",
   "id": "82ac979a-8686-4c72-9f9d-d120f584625d",
   "metadata": {},
   "source": [
    "Yes, the exponential distribution is an appropriate choice to represent the time between customer arrivals at the store, as it accurately reflects situations where events are independent and occur at a constant average rate."
   ]
  },
  {
   "cell_type": "markdown",
   "id": "dffe63dc-e9b5-4a5e-bc05-0ca969960771",
   "metadata": {},
   "source": [
    "### 6.Covariance Matrix"
   ]
  },
  {
   "cell_type": "markdown",
   "id": "8e821396-1c87-4065-aca2-58214f45d903",
   "metadata": {},
   "source": [
    "\n",
    "Manually, calculate the covariance matrix of x and y given below;\n",
    "\n",
    "X Y\n",
    "1 2\n",
    "2 4\n",
    "3 6\n",
    "4 7\n",
    "5 8\n",
    "\n",
    "Note: Your code should look good with proper commenting where necessary"
   ]
  },
  {
   "cell_type": "markdown",
   "id": "682c94b9-a692-400d-8e52-604ae3b5bf74",
   "metadata": {},
   "source": [
    "# >>> Manually:"
   ]
  },
  {
   "cell_type": "markdown",
   "id": "4b06b343-9f95-4621-b74b-a494aa3d7f47",
   "metadata": {},
   "source": [
    "### Mean\n",
    "x = 1, 2, 3, 4, 5\n",
    "\n",
    "mean x: (1 + 2 + 3 + 4 + 5) = 15 / 5 = 3\n",
    "\n",
    "y = 2, 4, 6, 7, 8\n",
    "\n",
    "mean y: (2 + 4 + 6 + 7 + 8) = 27 / 5 = 5.4"
   ]
  },
  {
   "cell_type": "markdown",
   "id": "6be3ba5e-b217-48d7-ade8-0cbfe8164a32",
   "metadata": {},
   "source": [
    "### Deviation\n",
    "\n",
    "Dev x: \n",
    "(1−3)^2 = 4\n",
    "(2−3)^2 = 1\n",
    "(3−3)^2 = 0\n",
    "(4−3)^2 = 1\n",
    "(5−3)^2 = 4\n",
    "\n",
    "Dev y: \n",
    "(2−5.4)^2 = 11.56\n",
    "(4−5.4)^2 = 1.96\n",
    "(6−5.4)^2 = 0.36\n",
    "(7−5.4)^2 = 2.56\n",
    "(8−5.4)^2 = 6.76"
   ]
  },
  {
   "cell_type": "markdown",
   "id": "e9ee8367-3945-4a35-bdc3-cfe4d937ed88",
   "metadata": {},
   "source": [
    "### Variance\n",
    "\n",
    "Var x: 4 + 1 + 0 + 1 + 4 = 10 / 5 = 2.0\n",
    "\n",
    "Var y: 11.56 + 1.96 + 0.36 + 2.56 + 6.76 = 23.2 / 5 = 4.64"
   ]
  },
  {
   "cell_type": "markdown",
   "id": "b33940a6-fea2-4832-be5f-61bb9e986682",
   "metadata": {},
   "source": [
    "### Covariance\n",
    "Cor xy = (-2 * -3.4).(-1 * -1.4).(0 * 0.6).(1 * 1.6).(2 * 2.6)\n",
    "\n",
    "       = 6.8 + 1.4 + 0 + 1.6 + 5.2 = 15\n",
    "       \n",
    "       = 15 / (5-1)\n",
    "       \n",
    "       = 3.75"
   ]
  },
  {
   "cell_type": "markdown",
   "id": "4e0f3771-df9c-4047-a254-a63dd01cb337",
   "metadata": {},
   "source": [
    "### Result:\n",
    "\n",
    "Var (x) 2.00\n",
    "Cov (xy) 3.75\n",
    "\n",
    "\n",
    "\n",
    "Cov (xy) 3.75\n",
    "Var (y) 4.64\n"
   ]
  },
  {
   "cell_type": "markdown",
   "id": "ce5bf80f-70b3-41e2-953f-e2346633f5a2",
   "metadata": {},
   "source": [
    "# >>> Code:"
   ]
  },
  {
   "cell_type": "code",
   "execution_count": 289,
   "id": "6f1460da-0a1f-43a6-887f-7073d676ab4f",
   "metadata": {},
   "outputs": [
    {
     "name": "stdout",
     "output_type": "stream",
     "text": [
      "Mean X: 3.0\n",
      "Mean Y: 5.4\n"
     ]
    }
   ],
   "source": [
    "import numpy as np\n",
    "\n",
    "x = np.array([1, 2, 3, 4, 5])\n",
    "y = np.array([2, 4, 6, 7, 8])\n",
    "\n",
    "mean_x = np.mean(x)\n",
    "mean_y = np.mean(y)\n",
    "\n",
    "print(f\"Mean X: {mean_x}\")\n",
    "print(f\"Mean Y: {mean_y}\")"
   ]
  },
  {
   "cell_type": "code",
   "execution_count": 294,
   "id": "a0db2999-fc71-443f-a803-7e9fc3126988",
   "metadata": {},
   "outputs": [
    {
     "name": "stdout",
     "output_type": "stream",
     "text": [
      "Deviation X: [-2. -1.  0.  1.  2.]\n",
      "Deviation Y: [-3.4 -1.4  0.6  1.6  2.6]\n"
     ]
    }
   ],
   "source": [
    "# Deviation\n",
    "dev_x = x - mean_x\n",
    "dev_y = y - mean_y\n",
    "\n",
    "print(f\"Deviation X: {dev_x}\")\n",
    "print(f\"Deviation Y: {dev_y}\")"
   ]
  },
  {
   "cell_type": "code",
   "execution_count": 297,
   "id": "2cce5aae-1b0f-4c0b-9955-d75420cec4b0",
   "metadata": {},
   "outputs": [
    {
     "name": "stdout",
     "output_type": "stream",
     "text": [
      "Covariance XY: 3.75\n"
     ]
    }
   ],
   "source": [
    "# Covariance\n",
    "cov_xy = np.sum(dev_x * dev_y) / (len(x) - 1)\n",
    "\n",
    "print(f\"Covariance XY: {cov_xy}\")"
   ]
  },
  {
   "cell_type": "code",
   "execution_count": 300,
   "id": "04186325-d06e-490f-9b42-99451e675c0b",
   "metadata": {},
   "outputs": [
    {
     "name": "stdout",
     "output_type": "stream",
     "text": [
      "Variance X: 2.0\n",
      "Variance Y: 4.64\n"
     ]
    }
   ],
   "source": [
    "# Variance\n",
    "var_x = np.var(x)\n",
    "var_y = np.var(y)\n",
    "\n",
    "print(f\"Variance X: {var_x}\")\n",
    "print(f\"Variance Y: {var_y}\")"
   ]
  },
  {
   "cell_type": "code",
   "execution_count": 324,
   "id": "d2849b72-face-4f0a-9c50-9b36635b870e",
   "metadata": {},
   "outputs": [
    {
     "name": "stdout",
     "output_type": "stream",
     "text": [
      "['Var(x):2.0', 'Cov(xy):3.75']\n",
      "['Cov(xy):3.75', 'Var(y):4.64']\n"
     ]
    }
   ],
   "source": [
    "print([f\"Var(x):{var_x}\", f\"Cov(xy):{cov_xy}\"])\n",
    "print([f\"Cov(xy):{cov_xy}\", f\"Var(y):{var_y}\"])"
   ]
  }
 ],
 "metadata": {
  "kernelspec": {
   "display_name": "Python 3 (ipykernel)",
   "language": "python",
   "name": "python3"
  },
  "language_info": {
   "codemirror_mode": {
    "name": "ipython",
    "version": 3
   },
   "file_extension": ".py",
   "mimetype": "text/x-python",
   "name": "python",
   "nbconvert_exporter": "python",
   "pygments_lexer": "ipython3",
   "version": "3.11.7"
  }
 },
 "nbformat": 4,
 "nbformat_minor": 5
}
